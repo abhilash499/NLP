{
 "cells": [
  {
   "cell_type": "markdown",
   "metadata": {},
   "source": [
    "# Tf-idf Vectorizer."
   ]
  },
  {
   "cell_type": "code",
   "execution_count": 4,
   "metadata": {},
   "outputs": [],
   "source": [
    "import pandas as pd\n",
    "from sklearn.feature_extraction.text import TfidfVectorizer\n",
    "from sklearn.metrics import confusion_matrix\n",
    "from sklearn.metrics import accuracy_score\n",
    "from sklearn.preprocessing import StandardScaler"
   ]
  },
  {
   "cell_type": "markdown",
   "metadata": {},
   "source": [
    "## Load train and test data"
   ]
  },
  {
   "cell_type": "code",
   "execution_count": 15,
   "metadata": {},
   "outputs": [
    {
     "name": "stdout",
     "output_type": "stream",
     "text": [
      "   URL                                           Articles\n",
      "0    0  microorg tiny seen ey distribut world ev insid...\n",
      "1    1  download vimeo video vimeo consid greatest sou...\n",
      "2    0  ask quest dat sci march min read not edit thin...\n",
      "3    0  almost year ago day ryanair europ largest low ...\n",
      "4    0  stop heard min industry stat slow econom decli...\n",
      "   URL                                           Articles\n",
      "0    1  walt car mak sur mad first day new job company...\n",
      "1    0  provid cbc elect campaign commun littl scheer ...\n",
      "2    1  sport ml leagu season play play big top play s...\n",
      "3    1  beach plac day good company beach lik peopl or...\n",
      "4    0  forc withdraw northern syr sunday iraq kurd te...\n"
     ]
    }
   ],
   "source": [
    "train = pd.read_csv('train_pos.csv')\n",
    "test = pd.read_csv('test_pos.csv')\n",
    "\n",
    "print(train.head())\n",
    "print(test.head())"
   ]
  },
  {
   "cell_type": "markdown",
   "metadata": {},
   "source": [
    "## Create independent and dependent variables"
   ]
  },
  {
   "cell_type": "code",
   "execution_count": 16,
   "metadata": {},
   "outputs": [
    {
     "name": "stdout",
     "output_type": "stream",
     "text": [
      "X_train.shape: (901,)\n",
      "X_test.shape: (36,)\n"
     ]
    }
   ],
   "source": [
    "X_train = train['Articles']\n",
    "y_train = train['URL']\n",
    "\n",
    "X_test = test['Articles']\n",
    "y_test = test['URL']\n",
    "\n",
    "print('X_train.shape: {}'.format(X_train.shape))\n",
    "print('X_test.shape: {}'.format(X_test.shape))"
   ]
  },
  {
   "cell_type": "markdown",
   "metadata": {},
   "source": [
    "## Create a Tfidf object"
   ]
  },
  {
   "cell_type": "code",
   "execution_count": 17,
   "metadata": {},
   "outputs": [],
   "source": [
    "# # Create a count vectorizer object - word level\n",
    "vectorizer = TfidfVectorizer(analyzer='word', token_pattern=r'\\b[^\\d\\W]+\\b')\n",
    "\n",
    "# Create a count vectorizer object - ngram level\n",
    "# vectorizer = TfidfVectorizer(analyzer='word', token_pattern=r'\\b[^\\d\\W]+\\b', ngram_range=(1,5))\n",
    "\n",
    "# # Create a count vectorizer object - char level\n",
    "# vectorizer = TfidfVectorizer(analyzer='char', token_pattern=r'\\b[^\\d\\W]+\\b', ngram_range=(3,5))"
   ]
  },
  {
   "cell_type": "markdown",
   "metadata": {},
   "source": [
    "## Fit and transform"
   ]
  },
  {
   "cell_type": "code",
   "execution_count": 18,
   "metadata": {},
   "outputs": [
    {
     "name": "stdout",
     "output_type": "stream",
     "text": [
      "4605\n",
      "4605\n"
     ]
    }
   ],
   "source": [
    "# Fit\n",
    "vectorizer.fit(X_train)\n",
    "\n",
    "# Create vectors.\n",
    "Xtrain = vectorizer.transform(X_train).toarray()\n",
    "Xtest = vectorizer.transform(X_test).toarray()\n",
    "\n",
    "print(len(vectorizer.get_feature_names()))\n",
    "print(len(vectorizer.vocabulary_))"
   ]
  },
  {
   "cell_type": "markdown",
   "metadata": {},
   "source": [
    "## Function to train and test"
   ]
  },
  {
   "cell_type": "code",
   "execution_count": 19,
   "metadata": {},
   "outputs": [],
   "source": [
    "def calculate_efficiency(model, Xtrain, y_train, Xtest, y_test):    \n",
    "    spam_model = model.fit(Xtrain, y_train)\n",
    "    \n",
    "    # Predict and calulate efficiency\n",
    "    y_pred = spam_model.predict(Xtest)\n",
    "\n",
    "    conf_mat = confusion_matrix(y_test, y_pred)\n",
    "    accuracy = accuracy_score(y_test, y_pred)\n",
    "    \n",
    "    print('Model:\\n{}'.format(model))\n",
    "    print('\\nConfusion Matrix:\\n{}'.format(conf_mat))\n",
    "    print('\\nAccuracy:\\n{}'.format(accuracy))    "
   ]
  },
  {
   "cell_type": "markdown",
   "metadata": {},
   "source": [
    "## Naive Bayes Calssifier"
   ]
  },
  {
   "cell_type": "code",
   "execution_count": 20,
   "metadata": {},
   "outputs": [
    {
     "name": "stdout",
     "output_type": "stream",
     "text": [
      "Model:\n",
      "MultinomialNB(alpha=1.0, class_prior=None, fit_prior=True)\n",
      "\n",
      "Confusion Matrix:\n",
      "[[20  0]\n",
      " [14  2]]\n",
      "\n",
      "Accuracy:\n",
      "0.6111111111111112\n"
     ]
    }
   ],
   "source": [
    "from sklearn.naive_bayes import MultinomialNB\n",
    "modelNB = MultinomialNB()\n",
    "calculate_efficiency(modelNB, Xtrain, y_train, Xtest, y_test)"
   ]
  },
  {
   "cell_type": "markdown",
   "metadata": {},
   "source": [
    "## Logistic Regression"
   ]
  },
  {
   "cell_type": "code",
   "execution_count": 21,
   "metadata": {},
   "outputs": [
    {
     "name": "stdout",
     "output_type": "stream",
     "text": [
      "Model:\n",
      "LogisticRegression(C=1.0, class_weight=None, dual=False, fit_intercept=True,\n",
      "          intercept_scaling=1, max_iter=100, multi_class='warn',\n",
      "          n_jobs=None, penalty='l2', random_state=None, solver='lbfgs',\n",
      "          tol=0.0001, verbose=0, warm_start=False)\n",
      "\n",
      "Confusion Matrix:\n",
      "[[20  0]\n",
      " [10  6]]\n",
      "\n",
      "Accuracy:\n",
      "0.7222222222222222\n"
     ]
    }
   ],
   "source": [
    "from sklearn.linear_model import LogisticRegression\n",
    "modelLR = LogisticRegression(solver='lbfgs')\n",
    "calculate_efficiency(modelLR, Xtrain, y_train, Xtest, y_test)"
   ]
  },
  {
   "cell_type": "markdown",
   "metadata": {},
   "source": [
    "## SVM Model"
   ]
  },
  {
   "cell_type": "code",
   "execution_count": 22,
   "metadata": {},
   "outputs": [
    {
     "name": "stdout",
     "output_type": "stream",
     "text": [
      "Model:\n",
      "SVC(C=1.0, cache_size=200, class_weight=None, coef0=0.0,\n",
      "  decision_function_shape='ovr', degree=3, gamma='scale', kernel='rbf',\n",
      "  max_iter=-1, probability=False, random_state=None, shrinking=True,\n",
      "  tol=0.001, verbose=False)\n",
      "\n",
      "Confusion Matrix:\n",
      "[[19  1]\n",
      " [11  5]]\n",
      "\n",
      "Accuracy:\n",
      "0.6666666666666666\n"
     ]
    }
   ],
   "source": [
    "from sklearn import svm\n",
    "modelSVM = svm.SVC(gamma='scale')\n",
    "calculate_efficiency(modelSVM, Xtrain, y_train, Xtest, y_test)"
   ]
  },
  {
   "cell_type": "markdown",
   "metadata": {},
   "source": [
    "## Bagging Model - RFC"
   ]
  },
  {
   "cell_type": "code",
   "execution_count": 23,
   "metadata": {},
   "outputs": [
    {
     "name": "stdout",
     "output_type": "stream",
     "text": [
      "Model:\n",
      "LogisticRegression(C=1.0, class_weight=None, dual=False, fit_intercept=True,\n",
      "          intercept_scaling=1, max_iter=100, multi_class='warn',\n",
      "          n_jobs=None, penalty='l2', random_state=None, solver='lbfgs',\n",
      "          tol=0.0001, verbose=0, warm_start=False)\n",
      "\n",
      "Confusion Matrix:\n",
      "[[20  0]\n",
      " [10  6]]\n",
      "\n",
      "Accuracy:\n",
      "0.7222222222222222\n"
     ]
    }
   ],
   "source": [
    "from sklearn.ensemble import RandomForestClassifier\n",
    "modelRFC = RandomForestClassifier(n_estimators=100, max_depth=2)\n",
    "calculate_efficiency(modelLR, Xtrain, y_train, Xtest, y_test)                        "
   ]
  },
  {
   "cell_type": "markdown",
   "metadata": {},
   "source": [
    "## Boosting Model - XGB"
   ]
  },
  {
   "cell_type": "code",
   "execution_count": 24,
   "metadata": {},
   "outputs": [
    {
     "name": "stdout",
     "output_type": "stream",
     "text": [
      "Model:\n",
      "XGBClassifier(base_score=0.5, booster='gbtree', colsample_bylevel=1,\n",
      "       colsample_bynode=1, colsample_bytree=1, gamma=0, learning_rate=0.1,\n",
      "       max_delta_step=0, max_depth=3, min_child_weight=1, missing=None,\n",
      "       n_estimators=100, n_jobs=1, nthread=None,\n",
      "       objective='binary:logistic', random_state=0, reg_alpha=0,\n",
      "       reg_lambda=1, scale_pos_weight=1, seed=None, silent=None,\n",
      "       subsample=1, verbosity=1)\n",
      "\n",
      "Confusion Matrix:\n",
      "[[19  1]\n",
      " [ 3 13]]\n",
      "\n",
      "Accuracy:\n",
      "0.8888888888888888\n"
     ]
    }
   ],
   "source": [
    "import xgboost\n",
    "from xgboost import XGBClassifier\n",
    "modelXGB = xgboost.XGBClassifier()\n",
    "calculate_efficiency(modelXGB, Xtrain, y_train, Xtest, y_test)                        "
   ]
  },
  {
   "cell_type": "code",
   "execution_count": null,
   "metadata": {},
   "outputs": [],
   "source": []
  },
  {
   "cell_type": "code",
   "execution_count": null,
   "metadata": {},
   "outputs": [],
   "source": []
  },
  {
   "cell_type": "code",
   "execution_count": null,
   "metadata": {},
   "outputs": [],
   "source": []
  }
 ],
 "metadata": {
  "kernelspec": {
   "display_name": "Python 3",
   "language": "python",
   "name": "python3"
  },
  "language_info": {
   "codemirror_mode": {
    "name": "ipython",
    "version": 3
   },
   "file_extension": ".py",
   "mimetype": "text/x-python",
   "name": "python",
   "nbconvert_exporter": "python",
   "pygments_lexer": "ipython3",
   "version": "3.7.3"
  }
 },
 "nbformat": 4,
 "nbformat_minor": 2
}
